{
 "cells": [
  {
   "cell_type": "code",
   "execution_count": 1,
   "metadata": {},
   "outputs": [],
   "source": [
    "import pandas as pd\n",
    "from random import randrange\n",
    "from datetime import timedelta\n",
    "from random import randint\n",
    "from random import choice\n",
    "\n",
    "def random_date(start, end):\n",
    "    \"\"\"Return a random date between two datetime objects start and end\"\"\"\n",
    "\n",
    "    delta = end - start\n",
    "\n",
    "    int_delta = (delta.days * 24 * 60 * 60) + delta.seconds\n",
    "    random_second = randrange(int_delta)\n",
    "\n",
    "    return start + timedelta(seconds=random_second)\n",
    "\n",
    "def random_dateEND(start):\n",
    "    \"\"\"Return a random date between two datetime objects start and end\"\"\"\n",
    "\n",
    "\n",
    "    int_delta =  randint(60*10,60*10*8)\n",
    "    random_second = randrange(int_delta)\n",
    "\n",
    "    return start + timedelta(seconds=random_second)\n",
    "\n",
    "def random_dateEND2(start):\n",
    "    \"\"\"Return a random date between two datetime objects start and end\"\"\"\n",
    "\n",
    "\n",
    "    int_delta =  randint(60,60*10*5)\n",
    "    random_second = randrange(int_delta)\n",
    "\n",
    "    return start + timedelta(seconds=random_second)\n",
    "\n",
    "\n",
    "#random_ciy = choice(cities) \n",
    "\n",
    "operators=[]\n",
    "with open('dataset/Operators_data.csv',encoding=\"utf8\") as opFile:\n",
    "    for i in opFile:\n",
    "        operators.append((i.split(\";\")[1].replace(\" \", \"-\")))\n",
    "operators=operators[4:14]\n",
    "\n",
    "stations={}\n",
    "points={}\n",
    "pricePolicy=[\"low\",\"medium\",\"large\"]\n",
    "costPerKWh={}\n",
    "for nu,i in enumerate(operators):\n",
    "    stations[i]=[]\n",
    "    maxInt = randint(1,3)\n",
    "    for j in range(maxInt):\n",
    "        stationID=format(nu, '04d')+'-'+\"214-\"+format(j, '04d')\n",
    "        stations[i].append(stationID)\n",
    "        points[stationID]=[]\n",
    "        maxInt2 = randint(5,10)\n",
    "        for k in range(maxInt2 ):\n",
    "            pointID = stationID +'-'+format(k, '04d')\n",
    "            points[stationID].append(pointID)\n",
    "        maxInt2 = randint(3,6)\n",
    "        costPerKWh[stationID]=[]\n",
    "        for k in range(maxInt2 ):\n",
    "            perKwh=2*randint(10,100)/200\n",
    "            costPerKWh[stationID].append(perKwh)\n",
    "            \n",
    "\n",
    "users=[]\n",
    "for i in range(12345,12695):\n",
    "    users.append(str(i)+\"-28329\")\n",
    "\n",
    "payments=[\"cash\",\"card\"]"
   ]
  },
  {
   "cell_type": "code",
   "execution_count": 2,
   "metadata": {},
   "outputs": [],
   "source": [
    "data ={\n",
    "\"sessionID\" :[],\n",
    "\"kWhDelivered\":[],\n",
    "\"userID\":[],\n",
    "\"operator\":[],\n",
    "\"spaceID\":[],\n",
    "\"stationID\":[],\n",
    "\"payment\":[],\n",
    "\"costPerKWh\":[],\n",
    "\"totalCost\":[],\n",
    "\"provider\":[],\n",
    "\"pricePolicy\":[],\n",
    "\"connectionTime\":[],\n",
    "\"disconnectTime\":[],\n",
    "\"doneChargingTime\":[],\n",
    "}"
   ]
  },
  {
   "cell_type": "code",
   "execution_count": 3,
   "metadata": {},
   "outputs": [],
   "source": [
    "import datetime\n",
    "for i in range(5000):\n",
    "    sessionID=\"AB\"+format(i, '05d')\n",
    "    kWhDelivered = 40*randint(10,1000)/1000\n",
    "    costPerKWh = randint(70,150)/100\n",
    "    operator =choice(operators)\n",
    "    provider= operator\n",
    "    user =choice(users)\n",
    "    station =choice(stations[operator])\n",
    "    space =choice(points[station])\n",
    "    payment=choice(payments)\n",
    "    totalCost= costPerKWh * kWhDelivered\n",
    "    pricePolicy = choice(pricePolicy)\n",
    "    connectionTime=random_date(datetime.datetime(2020,1,1), datetime.datetime.now())\n",
    "    doneChargingTime=random_dateEND(connectionTime)\n",
    "    disconnectTime=random_dateEND2(doneChargingTime)\n",
    "    data[\"sessionID\"].append(sessionID)\n",
    "    data[\"kWhDelivered\"].append(kWhDelivered)\n",
    "    data[\"userID\"].append( user)\n",
    "    data[\"operator\"].append(operator)\n",
    "    data[\"spaceID\"].append(space)\n",
    "    data[\"stationID\"].append(station )\n",
    "    data[\"payment\"].append(payment)\n",
    "    data[\"costPerKWh\"].append(costPerKWh)\n",
    "    data[\"totalCost\"].append(totalCost)\n",
    "    data[\"provider\"].append(provider)\n",
    "    data[\"pricePolicy\"].append(pricePolicy )\n",
    "    data[\"connectionTime\"].append( connectionTime.strftime(\"%Y-%m-%d %H:%M:%S\"))\n",
    "    data[\"disconnectTime\"].append(disconnectTime.strftime(\"%Y-%m-%d %H:%M:%S\"))\n",
    "    data[\"doneChargingTime\"].append(doneChargingTime.strftime(\"%Y-%m-%d %H:%M:%S\"))\n",
    "\n",
    "    \n",
    "    "
   ]
  },
  {
   "cell_type": "code",
   "execution_count": 4,
   "metadata": {},
   "outputs": [],
   "source": [
    "df = pd.DataFrame (data, columns = [\"sessionID\",\"connectionTime\",\"disconnectTime\",\"doneChargingTime\",\"kWhDelivered\",\"spaceID\",\"stationID\",\"userID\",\"payment\",\n",
    "\"provider\",\"pricePolicy\",\"costPerKWh\",\"totalCost\",\"operator\"])\n",
    "df.to_csv(r'new.csv')"
   ]
  },
  {
   "cell_type": "code",
   "execution_count": 105,
   "metadata": {},
   "outputs": [
    {
     "data": {
      "text/plain": [
       "'21/03/10 18:12:51'"
      ]
     },
     "execution_count": 105,
     "metadata": {},
     "output_type": "execute_result"
    }
   ],
   "source": []
  },
  {
   "cell_type": "code",
   "execution_count": 112,
   "metadata": {},
   "outputs": [],
   "source": [
    "\n",
    "import json\n",
    "\n",
    "person_dict = {\"name\": \"Bob\",\n",
    "\"languages\": [\"English\", \"Fench\"],\n",
    "\"married\": True,\n",
    "\"age\": 32\n",
    "}\n",
    "\n",
    "with open('person.json', 'w') as json_file:\n",
    "    json.dump(person_dict, json_file)"
   ]
  },
  {
   "cell_type": "code",
   "execution_count": null,
   "metadata": {},
   "outputs": [],
   "source": []
  }
 ],
 "metadata": {
  "kernelspec": {
   "display_name": "Python 3.7.7 64-bit ('cv_lab1_env': conda)",
   "language": "python",
   "name": "python37764bitcvlab1envcondae20bd604cbd241a78fe700240530c9e7"
  },
  "language_info": {
   "codemirror_mode": {
    "name": "ipython",
    "version": 3
   },
   "file_extension": ".py",
   "mimetype": "text/x-python",
   "name": "python",
   "nbconvert_exporter": "python",
   "pygments_lexer": "ipython3",
   "version": "3.7.7"
  }
 },
 "nbformat": 4,
 "nbformat_minor": 4
}
